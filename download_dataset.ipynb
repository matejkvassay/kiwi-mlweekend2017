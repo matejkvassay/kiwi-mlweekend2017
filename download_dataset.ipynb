{
 "cells": [
  {
   "cell_type": "code",
   "execution_count": 1,
   "metadata": {},
   "outputs": [],
   "source": [
    "from urllib.request import urlopen\n",
    "import numpy as np\n",
    "import json\n",
    "import time\n",
    "import pickle\n",
    "REQ_URL='http://165.227.157.145:8080/api/do_measurement?x='\n",
    "SAVE_PATH='/mnt/data/kiwi_mlweekend_dataset.dump'"
   ]
  },
  {
   "cell_type": "markdown",
   "metadata": {},
   "source": [
    "### Download Dataset"
   ]
  },
  {
   "cell_type": "code",
   "execution_count": 2,
   "metadata": {},
   "outputs": [],
   "source": [
    "def get_y(x):\n",
    "    return json.loads(urlopen(REQ_URL+str(x)).read().decode('utf8'))['data']['y']\n",
    "\n",
    "def download_dataset(x_list, time_limit_s=5):\n",
    "    data=[]\n",
    "    start_time=time.time()\n",
    "    while time.time()-start_time<time_limit_s:\n",
    "        data+=[(x, get_y(x)) for x in x_list if time.time()-start_time<time_limit_s]\n",
    "    return sorted(data, key=lambda x:x[0])"
   ]
  },
  {
   "cell_type": "code",
   "execution_count": 3,
   "metadata": {},
   "outputs": [],
   "source": [
    "x_list=np.arange(-10, 10, 0.5)\n",
    "data=download_dataset(x_list,time_limit_s=1200)"
   ]
  },
  {
   "cell_type": "markdown",
   "metadata": {},
   "source": [
    "### Persist Dataset"
   ]
  },
  {
   "cell_type": "code",
   "execution_count": 4,
   "metadata": {},
   "outputs": [],
   "source": [
    "with open(SAVE_PATH, 'wb') as f:\n",
    "    pickle.dump(data,f)"
   ]
  },
  {
   "cell_type": "code",
   "execution_count": null,
   "metadata": {},
   "outputs": [],
   "source": []
  }
 ],
 "metadata": {
  "kernelspec": {
   "display_name": "Python 3",
   "language": "python",
   "name": "python3"
  },
  "language_info": {
   "codemirror_mode": {
    "name": "ipython",
    "version": 3
   },
   "file_extension": ".py",
   "mimetype": "text/x-python",
   "name": "python",
   "nbconvert_exporter": "python",
   "pygments_lexer": "ipython3",
   "version": "3.5.2"
  }
 },
 "nbformat": 4,
 "nbformat_minor": 2
}
